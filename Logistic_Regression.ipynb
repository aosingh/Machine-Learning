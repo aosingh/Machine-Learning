{
 "cells": [
  {
   "cell_type": "code",
   "execution_count": 1,
   "metadata": {
    "collapsed": true,
    "deletable": true,
    "editable": true
   },
   "outputs": [],
   "source": [
    "from __future__ import division\n",
    "from sklearn import linear_model\n",
    "import numpy as np\n",
    "import pandas as pd\n",
    "import random\n",
    "import math\n",
    "import matplotlib.pyplot as plt"
   ]
  },
  {
   "cell_type": "markdown",
   "metadata": {
    "deletable": true,
    "editable": true
   },
   "source": [
    "# Logistic Regression\n",
    "\n",
    "In this notebook, I will implement Logistic Regression. Logistic Regression is a Generalized Linear model. Now, what do we mean by a Generalized Linear model?\n"
   ]
  },
  {
   "cell_type": "markdown",
   "metadata": {
    "deletable": true,
    "editable": true
   },
   "source": [
    "## Generalized Linear Model\n",
    "\n",
    "In Linear regression models the model prediction `y(x, w)` is given by a linear function of the parameters `w`. In the simplest case, the model is also linear in terms of the input variables and therefore takes the form:\n",
    "                                    \n",
    "$$y(x)=w^Tx + w_0$$\n",
    "\n",
    "However, the output of the above equation is unbounded. We need to realize a function form of the posterior probability i.e. $$P(Y = y_j|x = x_i) ........0 <= P(Y|x) <= 1$$\n",
    "\n",
    "Please note that the value of the posterior probablities lie in the range of `(0,1)`. The question is; How do we achieve this ?\n"
   ]
  },
  {
   "cell_type": "markdown",
   "metadata": {
    "deletable": true,
    "editable": true
   },
   "source": [
    "## Activation function: Logistic Sigmoid\n",
    "To achieve this, we consider a generalization of the linear model in which which we transform the linear function of w using a nonlinear function f ( · ) so that $$y(x)= f(w^Tx + w_0)$$\n",
    "\n",
    "f(.) is also called the activation function\n",
    "\n",
    "The activation function that we will use for Logistic Regression is the logistic sigmoid function. It is as shown below\n",
    "\n",
    "$$f(x)=\\frac{1}{1 + e^{-x}} = \\frac{e^x}{1 + e^x}$$\n",
    "\n",
    "Derivative of the sigmoid function is given by \n",
    "\n",
    "$$\\frac{df(x)}{dx} = f(x)(1-f(x))$$\n",
    "\n",
    "Shown below is a plot of the sigmoid function. It maps everything in the range (-100, 100) to (0, 1) which is what we want. Thus it looks like a good functional realization of our posterior probability. Try changing the range and you will notice that the output will always lie in between 0 and 1"
   ]
  },
  {
   "cell_type": "code",
   "execution_count": 2,
   "metadata": {
    "collapsed": false,
    "deletable": true,
    "editable": true
   },
   "outputs": [
    {
     "data": {
      "image/png": "[encoded data removed]",
      "text/plain": [
       "<matplotlib.figure.Figure at 0x7f64cf6f2590>"
      ]
     },
     "metadata": {},
     "output_type": "display_data"
    }
   ],
   "source": [
    "def sigmoid(x):\n",
    "    return 1 / (1 + np.exp(-x))\n",
    "x = np.arange(-100, 100, 0.2)\n",
    "y = sigmoid(x)\n",
    "plt.plot(x, y)\n",
    "plt.show()"
   ]
  },
  {
   "cell_type": "markdown",
   "metadata": {},
   "source": [
    "# Approach :\n",
    "\n",
    "I use the gradient ascent method to implement Logistic Regression. \n",
    "The approach is explained below : "
   ]
  },
  {
   "cell_type": "markdown",
   "metadata": {},
   "source": [
    "<img src=\"blob/master/files/ga1.png\">"
   ]
  },
  {
   "cell_type": "markdown",
   "metadata": {},
   "source": [
    "<img src=\"blob/master/files/ga2.png\">"
   ]
  },
  {
   "cell_type": "code",
   "execution_count": 3,
   "metadata": {
    "collapsed": true,
    "deletable": true,
    "editable": true
   },
   "outputs": [],
   "source": [
    "class LogisticRegression:\n",
    "    \n",
    "    def __init__(self, X, y, w, alpha):\n",
    "        \"\"\"\n",
    "        Args:\n",
    "            X = N x d dimensional features\n",
    "            y = N X 1 column vector of the output class\n",
    "            w = d X 1 column vector of weights that we will calculate while training our Logistic Regressor\n",
    "        \"\"\"\n",
    "        self.X = X\n",
    "        self.y = y\n",
    "        self.alpha = alpha\n",
    "        self.w = w\n",
    "    \n",
    "    @staticmethod\n",
    "    def sigmoid_function(x):\n",
    "        \"\"\"\n",
    "        Computes the Logistic sigmoid of the input X.\n",
    "        \"\"\"\n",
    "        val = 1/(1 + np.exp(-x))\n",
    "        return val\n",
    "    \n",
    "    @staticmethod\n",
    "    def compute_regressor(w, X):\n",
    "        '''\n",
    "        Computes the dot product in between the w and X matrix. \n",
    "        '''\n",
    "        regressor = np.dot(w, X)\n",
    "        return LogisticRegression.sigmoid_function(regressor)\n",
    "       \n",
    "    def gradient(self, j):\n",
    "        \"\"\"\n",
    "        Computes the gradient of the cost function. Please note that we \n",
    "        calculate the gradient using the sum of the errors on all the data samples.\n",
    "        Thus we are using the Batch Gradient Ascent method.\n",
    "        \"\"\"\n",
    "        total_error = 0\n",
    "        for i in xrange(len(self.y)):\n",
    "            xi = self.X[i]\n",
    "            xij = xi[j]\n",
    "            yi = self.y[i]\n",
    "            ri = LogisticRegression.compute_regressor(self.w, xi)\n",
    "            if yi == -1:\n",
    "                yi = 0\n",
    "            diff = xij*(yi-ri)\n",
    "            total_error += diff\n",
    "        constant = float(self.alpha)/float(len(self.y))\n",
    "        grad = constant * total_error\n",
    "        return grad\n",
    "    \n",
    "    \n",
    "    def gradient_ascent(self):\n",
    "        \"\"\"\n",
    "        Updates each weight by the gradient of the cost function\n",
    "        \"\"\"\n",
    "        wi = []\n",
    "        for j in xrange(len(self.w)):\n",
    "            grad = self.gradient(j)\n",
    "            wij = self.w[j] + grad\n",
    "            wi.append(wij)\n",
    "        return wi\n",
    "    \n",
    "    \n",
    "    def train(self, max_iters):\n",
    "        \"\"\"\n",
    "        While training, we just run the gradient ascent for a maximum number of iterations.\n",
    "        \"\"\"\n",
    "        for counter in xrange(max_iters):\n",
    "            wi = self.gradient_ascent()\n",
    "            self.w = wi;\n",
    "    \n",
    "    def predict(self, x):\n",
    "        \"\"\"\n",
    "        If the posterior probability is > 0.5 then \n",
    "        \"\"\"\n",
    "        posterior_prob = LogisticRegression.compute_regressor(self.w, x)\n",
    "        if posterior_prob > 0.5:\n",
    "            return 1, posterior_prob\n",
    "        elif posterior_prob < 0.5:\n",
    "            return -1, posterior_prob\n",
    "        else:\n",
    "            return random.choice([-1, 1])"
   ]
  },
  {
   "cell_type": "markdown",
   "metadata": {},
   "source": [
    "# Let us test our implementation\n",
    "\n",
    "I have created a simple linearly separable synthetic dataset with 2 classes 1(match) and -1(non-match)"
   ]
  },
  {
   "cell_type": "code",
   "execution_count": 19,
   "metadata": {
    "collapsed": false,
    "deletable": true,
    "editable": true
   },
   "outputs": [
    {
     "data": {
      "image/png": "[encoded data removed]",
      "text/plain": [
       "<matplotlib.figure.Figure at 0x7f64cd031490>"
      ]
     },
     "metadata": {},
     "output_type": "display_data"
    }
   ],
   "source": [
    "X1 = np.array([1, 1, -1, -1])\n",
    "X2 = np.array([1, -1, 1, -1])\n",
    "\n",
    "colors = {0:'red', 1:'green'}\n",
    "color =[1, 1, 0, 0]\n",
    "\n",
    "df = pd.DataFrame(dict(X1=X1, X2=X2, color=color))\n",
    "fig, ax = plt.subplots()\n",
    "ax.scatter(df['X1'], df['X2'], c=df['color'].apply(lambda x: colors[x]), s=100)\n",
    "ax.set_title(\"Synthetic Dataset. Green ones are matches(1)\")\n",
    "ax.set_xlabel(\"X1\")\n",
    "ax.set_ylabel(\"X2\")\n",
    "plt.show()"
   ]
  },
  {
   "cell_type": "markdown",
   "metadata": {},
   "source": [
    "# Train the classifier"
   ]
  },
  {
   "cell_type": "code",
   "execution_count": 8,
   "metadata": {
    "collapsed": false,
    "deletable": true,
    "editable": true
   },
   "outputs": [],
   "source": [
    "X = np.array([[1, 1], [1, -1], [-1, 1], [-1, -1]])\n",
    "Y = np.array([1, 1, -1, -1])\n",
    "w = [0, 0]\n",
    "alpha = 0.1\n",
    "lr = LogisticRegression(X, Y, w, alpha)\n",
    "lr.train(max_iters = 100)"
   ]
  },
  {
   "cell_type": "code",
   "execution_count": 9,
   "metadata": {
    "collapsed": false
   },
   "outputs": [
    {
     "data": {
      "text/plain": [
       "[2.1854715036667325, 0.0]"
      ]
     },
     "execution_count": 9,
     "metadata": {},
     "output_type": "execute_result"
    }
   ],
   "source": [
    "lr.w # These are our final weights for each feature"
   ]
  },
  {
   "cell_type": "markdown",
   "metadata": {},
   "source": [
    "# Prediction for a new sample\n",
    "Let us see what is the final probability value that we get. Now, this is very useful for cases when you want to give the end user a feedbck as to why the predicted class is 1 or -1. "
   ]
  },
  {
   "cell_type": "markdown",
   "metadata": {},
   "source": [
    "## Posterior probability - Feedback to the user"
   ]
  },
  {
   "cell_type": "code",
   "execution_count": 10,
   "metadata": {
    "collapsed": false
   },
   "outputs": [
    {
     "data": {
      "text/plain": [
       "(-1, 0.0014189551701895336)"
      ]
     },
     "execution_count": 10,
     "metadata": {},
     "output_type": "execute_result"
    }
   ],
   "source": [
    "lr.predict(np.array([-3, 1])) # This class is -1 because the probability of match is 0.0014 as shown below."
   ]
  },
  {
   "cell_type": "code",
   "execution_count": 11,
   "metadata": {
    "collapsed": false
   },
   "outputs": [
    {
     "data": {
      "text/plain": [
       "(1, 0.98751844237202346)"
      ]
     },
     "execution_count": 11,
     "metadata": {},
     "output_type": "execute_result"
    }
   ],
   "source": [
    "lr.predict(np.array([2, -1])) # This class is +1 because the probability of match is 0.98 as shown below"
   ]
  },
  {
   "cell_type": "markdown",
   "metadata": {},
   "source": [
    "# Let us compare our output with sklearn's output"
   ]
  },
  {
   "cell_type": "code",
   "execution_count": 13,
   "metadata": {
    "collapsed": false,
    "deletable": true,
    "editable": true
   },
   "outputs": [],
   "source": [
    "clf = linear_model.LogisticRegression(fit_intercept=True, C=10)"
   ]
  },
  {
   "cell_type": "code",
   "execution_count": 14,
   "metadata": {
    "collapsed": false,
    "deletable": true,
    "editable": true
   },
   "outputs": [
    {
     "data": {
      "text/plain": [
       "LogisticRegression(C=10, class_weight=None, dual=False, fit_intercept=True,\n",
       "          intercept_scaling=1, max_iter=100, multi_class='ovr', n_jobs=1,\n",
       "          penalty='l2', random_state=None, solver='liblinear', tol=0.0001,\n",
       "          verbose=0, warm_start=False)"
      ]
     },
     "execution_count": 14,
     "metadata": {},
     "output_type": "execute_result"
    }
   ],
   "source": [
    "clf.fit(X, Y)"
   ]
  },
  {
   "cell_type": "code",
   "execution_count": 15,
   "metadata": {
    "collapsed": false,
    "deletable": true,
    "editable": true
   },
   "outputs": [
    {
     "data": {
      "text/plain": [
       "array([[ 2.64696108,  0.        ]])"
      ]
     },
     "execution_count": 15,
     "metadata": {},
     "output_type": "execute_result"
    }
   ],
   "source": [
    "clf.coef_ # These are the SKLEARN weights. # Pretty close"
   ]
  },
  {
   "cell_type": "markdown",
   "metadata": {},
   "source": [
    "## Decision Boundary"
   ]
  },
  {
   "cell_type": "code",
   "execution_count": 16,
   "metadata": {
    "collapsed": false,
    "deletable": true,
    "editable": true
   },
   "outputs": [
    {
     "data": {
      "image/png": "[encoded data removed]",
      "text/plain": [
       "<matplotlib.figure.Figure at 0x7f64cd3e3790>"
      ]
     },
     "metadata": {},
     "output_type": "display_data"
    }
   ],
   "source": [
    "h = .02  # step size in the mesh\n",
    "\n",
    "x_min, x_max = X[:, 0].min() - .5, X[:, 0].max() + .5\n",
    "y_min, y_max = X[:, 1].min() - .5, X[:, 1].max() + .5\n",
    "xx, yy = np.meshgrid(np.arange(x_min, x_max, h), np.arange(y_min, y_max, h))\n",
    "Z = clf.predict(np.c_[xx.ravel(), yy.ravel()])\n",
    "\n",
    "# Put the result into a color plot\n",
    "Z = Z.reshape(xx.shape)\n",
    "plt.figure(1, figsize=(4, 3))\n",
    "plt.pcolormesh(xx, yy, Z, cmap=plt.cm.Paired)\n",
    "\n",
    "# Plot also the training points\n",
    "plt.scatter(X[:, 0], X[:, 1], c=Y, edgecolors='k', cmap=plt.cm.Paired)\n",
    "plt.xlabel('X1')\n",
    "plt.ylabel('X2')\n",
    "\n",
    "plt.xlim(xx.min(), xx.max())\n",
    "plt.ylim(yy.min(), yy.max())\n",
    "\n",
    "\n",
    "plt.show()"
   ]
  },
  {
   "cell_type": "code",
   "execution_count": null,
   "metadata": {
    "collapsed": true
   },
   "outputs": [],
   "source": []
  }
 ],
 "metadata": {
  "kernelspec": {
   "display_name": "Python 2",
   "language": "python",
   "name": "python2"
  },
  "language_info": {
   "codemirror_mode": {
    "name": "ipython",
    "version": 2
   },
   "file_extension": ".py",
   "mimetype": "text/x-python",
   "name": "python",
   "nbconvert_exporter": "python",
   "pygments_lexer": "ipython2",
   "version": "2.7.11+"
  }
 },
 "nbformat": 4,
 "nbformat_minor": 1
}
