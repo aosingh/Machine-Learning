{
 "cells": [
  {
   "cell_type": "code",
   "execution_count": 1,
   "metadata": {
    "collapsed": true,
    "deletable": true,
    "editable": true
   },
   "outputs": [],
   "source": [
    "from __future__ import division\n",
    "import pandas as pd\n",
    "from collections import Counter\n",
    "from itertools import chain, groupby\n",
    "from sklearn.preprocessing import Imputer\n",
    "from sklearn.model_selection import train_test_split\n",
    "import numpy as np\n",
    "import random"
   ]
  },
  {
   "cell_type": "code",
   "execution_count": null,
   "metadata": {
    "collapsed": true
   },
   "outputs": [],
   "source": [
    "class LogisticRegression:\n",
    "    \n",
    "    def sigmoid_function():\n",
    "        "
   ]
  },
  {
   "cell_type": "code",
   "execution_count": 11,
   "metadata": {
    "collapsed": false,
    "deletable": true,
    "editable": true
   },
   "outputs": [],
   "source": [
    "class NaiveBayesClassifier:\n",
    "    \n",
    "    def __init__(self, df, output_col_name, features):\n",
    "        self.df = df\n",
    "        self.conditional_probabilites = {}\n",
    "        self.prior_probabilites = {}\n",
    "        self.output = output_col_name\n",
    "        self.features = features\n",
    "        \n",
    "    def calculate_prior_probabilites(self):\n",
    "        groups = self.df.groupby(self.output).groups\n",
    "        for x in groups:\n",
    "            self.prior_probabilites[x] = len(groups[x])/len(df)\n",
    "    \n",
    "    def calculate_conditional_probabilites(self):\n",
    "        for x in self.features:\n",
    "            if x != self.output:\n",
    "                self.conditional_probabilites[x] = self.df.groupby(self.output)[x].value_counts()/self.df.groupby(self.output)[x].count()\n",
    "                \n",
    "    def train(self):\n",
    "        self.calculate_prior_probabilites()\n",
    "        self.calculate_conditional_probabilites()\n",
    "    \n",
    "    def predict(self, row):\n",
    "        posterior_prob = {}\n",
    "        \n",
    "        # Initialize the posterior probability as same as the priors\n",
    "        for x in self.prior_probabilites:\n",
    "            posterior_prob[x] = self.prior_probabilites[x]\n",
    "        \n",
    "        for label in posterior_prob:\n",
    "            for x in self.features:\n",
    "                if x != self.output:\n",
    "                    if label in self.conditional_probabilites[x] and row[x] in self.conditional_probabilites[x].get(label):\n",
    "                        posterior_prob[label] *= self.conditional_probabilites[x].get(label).get(row[x])\n",
    "                    else:\n",
    "                        posterior_prob[label] = 0\n",
    "                        break\n",
    "        return max(posterior_prob, key=posterior_prob.get)\n",
    "        \n",
    "        \n",
    "        "
   ]
  },
  {
   "cell_type": "code",
   "execution_count": 12,
   "metadata": {
    "collapsed": false,
    "deletable": true,
    "editable": true
   },
   "outputs": [],
   "source": [
    "dataPath = './DataSets/breast-cancer-wisconsin.data.txt'\n",
    "columns = ['id', 'x1', 'x2', 'x3', 'x4', 'x5', 'x6', 'x7', 'x8', 'x9', 'output']\n",
    "features = ['x1', 'x2', 'x3', 'x4', 'x5', 'x6', 'x7', 'x8', 'x9', 'output']\n",
    "df = pd.read_csv(dataPath, names=columns)\n",
    "df = df.replace('?',np.NAN)\n",
    "df.isnull().sum()\n",
    "\n",
    "imr = Imputer(missing_values='NaN', strategy='mean', axis=0)\n",
    "imr = imr.fit(df[features])\n",
    "imputed_data = imr.transform(df[features]);"
   ]
  },
  {
   "cell_type": "code",
   "execution_count": 13,
   "metadata": {
    "collapsed": false,
    "deletable": true,
    "editable": true
   },
   "outputs": [],
   "source": [
    "df['output'] = df['output'].apply(lambda x : 1 if x == 2 else -1)"
   ]
  },
  {
   "cell_type": "code",
   "execution_count": 14,
   "metadata": {
    "collapsed": true,
    "deletable": true,
    "editable": true
   },
   "outputs": [],
   "source": [
    "df_X_train, df_X_test, df_y_train, df_y_test = train_test_split(df[features], df['output'], \n",
    "                                                                test_size=0.33, random_state=42)"
   ]
  },
  {
   "cell_type": "code",
   "execution_count": 33,
   "metadata": {
    "collapsed": false
   },
   "outputs": [
    {
     "name": "stdout",
     "output_type": "stream",
     "text": [
      "77\n",
      "77\n",
      "72\n",
      "35\n",
      "7\n",
      "7\n"
     ]
    }
   ],
   "source": [
    "fractions = [0.01, 0.02, 0.03, 0.125, 0.625, 1]\n",
    "training_data_size = []\n",
    "for fraction in fractions:\n",
    "    df_train = df_X_train.sample(frac=fraction)\n",
    "    training_data_size.append(len(df_train))\n",
    "    nbclassifier = NaiveBayesClassifier(df=df_train, output_col_name='output', features=features)\n",
    "    nbclassifier.train()\n",
    "    df_X_test['prediction'] = df_X_test.apply(lambda row : nbclassifier.predict(row), axis=1)\n",
    "    accuracy_results = pd.crosstab(df_X_test['prediction'], df_y_test)\n",
    "    \n",
    "    misclassifcation = 0;\n",
    "    \n",
    "    if 1 in accuracy_results:\n",
    "        if -1 in accuracy_results[1]:\n",
    "            misclassifcation += accuracy_results[1][-1]\n",
    "        \n",
    "    \n",
    "    if -1 in accuracy_results:\n",
    "        if 1 in accuracy_results[-1]:\n",
    "            misclassifcation += accuracy_results[-1][1]\n",
    "    \n",
    "    print misclassifcation"
   ]
  },
  {
   "cell_type": "code",
   "execution_count": null,
   "metadata": {
    "collapsed": true
   },
   "outputs": [],
   "source": []
  }
 ],
 "metadata": {
  "kernelspec": {
   "display_name": "Python 2",
   "language": "python",
   "name": "python2"
  },
  "language_info": {
   "codemirror_mode": {
    "name": "ipython",
    "version": 2
   },
   "file_extension": ".py",
   "mimetype": "text/x-python",
   "name": "python",
   "nbconvert_exporter": "python",
   "pygments_lexer": "ipython2",
   "version": "2.7.12"
  }
 },
 "nbformat": 4,
 "nbformat_minor": 1
}
